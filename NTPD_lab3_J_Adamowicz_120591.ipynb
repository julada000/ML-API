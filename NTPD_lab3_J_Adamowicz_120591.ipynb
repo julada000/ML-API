{
 "cells": [
  {
   "cell_type": "markdown",
   "id": "25257c37-3962-45ed-af2f-cf652fc9de36",
   "metadata": {},
   "source": [
    "Julia Adamowicz 120591"
   ]
  },
  {
   "cell_type": "markdown",
   "id": "1c22d7f2-3d9e-42db-9dfc-1f1f1d8344db",
   "metadata": {},
   "source": [
    "Labolatorium 3 -API do serwowania modelu ML, testowanie endpointów i zwracanie predykcji"
   ]
  },
  {
   "cell_type": "code",
   "execution_count": null,
   "id": "ebdf325d-a35f-4d7c-b168-00251602d69e",
   "metadata": {},
   "outputs": [],
   "source": [
    "from flask import Flask, jsonify, request\n",
    "import threading\n",
    "import numpy as np\n",
    "import json\n",
    "from sklearn.model_selection import train_test_split\n",
    "from sklearn.linear_model import LinearRegression"
   ]
  },
  {
   "cell_type": "markdown",
   "id": "400f383b-8fdc-4c58-bc2c-49a7b203c869",
   "metadata": {},
   "source": [
    "Zadanie 1"
   ]
  },
  {
   "cell_type": "code",
   "execution_count": null,
   "id": "53e8447c-9872-4098-bb88-8d082b226a0b",
   "metadata": {},
   "outputs": [],
   "source": [
    "#Tworzenie aplikacji Flask\n",
    "app = Flask(__name__)"
   ]
  },
  {
   "cell_type": "code",
   "execution_count": null,
   "id": "edb66c6a-2cb6-43af-b697-d8a409f16175",
   "metadata": {},
   "outputs": [],
   "source": [
    "#Definicja podstawowego endpointu\n",
    "@app.route('/')\n",
    "def home():\n",
    "    return jsonify({\"student\": \"Julia Adamowicz\"})"
   ]
  },
  {
   "cell_type": "code",
   "execution_count": null,
   "id": "b6b011ef-a3d2-4b06-aefa-dfd8f8f7de61",
   "metadata": {},
   "outputs": [],
   "source": [
    "def run_app():\n",
    "    app.run(debug=True, use_reloader=False)\n",
    "\n",
    "#Uruchamiamy Flask w osobnym wątku\n",
    "threading.Thread(target=run_app).start()"
   ]
  },
  {
   "cell_type": "markdown",
   "id": "f2ff1631-4eba-460f-a66c-2c854dad2d0e",
   "metadata": {},
   "source": [
    "Zadanie 2"
   ]
  },
  {
   "cell_type": "code",
   "execution_count": null,
   "id": "59dce4f9-0fcd-4e33-93b5-79891651afc2",
   "metadata": {},
   "outputs": [],
   "source": [
    "#Tworzymy przykładowe dane: x (cecha) i y (wartość docelowa)\n",
    "X = np.array([[1], [2], [3], [4], [5]])  #Przykładowe dane wejściowe\n",
    "y = np.array([1, 2, 3, 4, 5])  #Wynik \n",
    "\n",
    "#Tworzymy model LinearRegression i go trenujemy\n",
    "model = LinearRegression()\n",
    "model.fit(X, y)"
   ]
  },
  {
   "cell_type": "code",
   "execution_count": null,
   "id": "4fbe574b-21f9-4c0f-bfcd-eaf9139a5bfc",
   "metadata": {},
   "outputs": [],
   "source": [
    "#Endpoint /predict przyjmujący dane wejściowe w formacie JSON\n",
    "@app.route('/predict', methods=['POST'])\n",
    "def predict():\n",
    "    data = request.get_json()  #Pobieramy dane JSON z żądania\n",
    "    if 'feature' not in data:\n",
    "        return jsonify({\"error\": \"Brak wymaganej cechy 'feature' w danych wejściowych\"}), 400\n",
    "\n",
    "    feature_value = data['feature']  # obieramy wartość cechy\n",
    "\n",
    "    #Sprawdzamy, czy feature_value jest liczbą (float lub int)\n",
    "    if not isinstance(feature_value, (int, float)):\n",
    "        return jsonify({\"error\": \"'feature' musi być liczbą\"}), 400\n",
    "    \n",
    "    feature_array = np.array([[feature_value]])  #Tworzymy tablicę numpy z danymi wejściowymi\n",
    "\n",
    "    #Predykcja za pomocą modelu\n",
    "    prediction = model.predict(feature_array)\n",
    "\n",
    "    #Zwracamy wynik w formacie JSON\n",
    "    return jsonify({\"prediction\": prediction[0]})"
   ]
  },
  {
   "cell_type": "markdown",
   "id": "fd78d82f-e19b-4f79-8fd7-f2406d04f18b",
   "metadata": {},
   "source": [
    "#Poprawne zapytanie\n",
    "!curl -X POST http://127.0.0.1:5000/predict -H \"Content-Type: application/json\" -d \"{\\\"feature\\\": 6}\""
   ]
  },
  {
   "cell_type": "code",
   "execution_count": null,
   "id": "770ee11b-f475-47f6-aa76-bb2211593652",
   "metadata": {},
   "outputs": [],
   "source": [
    "#Błędne zapytanie (brak cechy)\n",
    "!curl -X POST http://127.0.0.1:5000/predict -H \"Content-Type: application/json\" -d \"{}\""
   ]
  },
  {
   "cell_type": "code",
   "execution_count": null,
   "id": "13bcadf8-5fc6-44be-b7e8-e57d7f404232",
   "metadata": {},
   "outputs": [],
   "source": [
    "#Błędne zapytanie (zły typ danych)\n",
    "!curl -X POST http://127.0.0.1:5000/predict -H \"Content-Type: application/json\" -d \"{\\\"feature\\\": \\\"abc\\\"}\""
   ]
  },
  {
   "cell_type": "markdown",
   "id": "35f22492-2094-455b-b197-7313ebfe29a9",
   "metadata": {},
   "source": [
    "Zadanie 4"
   ]
  },
  {
   "cell_type": "code",
   "execution_count": null,
   "id": "599e7ac0-544a-4843-aba2-ebd31db39637",
   "metadata": {},
   "outputs": [],
   "source": [
    "#Endpoint /info zwracający informacje o modelu\n",
    "@app.route('/info', methods=['GET'])\n",
    "def info():\n",
    "    model_info = {\n",
    "        \"model_type\": str(type(model)),\n",
    "        \"num_features\": model.n_features_in_\n",
    "    }\n",
    "    return jsonify(model_info)"
   ]
  },
  {
   "cell_type": "code",
   "execution_count": null,
   "id": "7739fbbb-d40b-4399-86e9-164c2f64e7b3",
   "metadata": {},
   "outputs": [],
   "source": [
    "!curl http://127.0.0.1:5000/info"
   ]
  },
  {
   "cell_type": "code",
   "execution_count": null,
   "id": "3bdc6d41-5663-4891-aac4-117cd8c34493",
   "metadata": {},
   "outputs": [],
   "source": [
    "#Endpoint /health zwracający status serwera\n",
    "@app.route('/health', methods=['GET'])\n",
    "def health():\n",
    "    return jsonify({\"status\": \"feelin' good\"})"
   ]
  },
  {
   "cell_type": "code",
   "execution_count": null,
   "id": "0fcd7b8c-b775-4b00-a6c0-2c6552947e8d",
   "metadata": {},
   "outputs": [],
   "source": [
    "!curl http://127.0.0.1:5000/health"
   ]
  },
  {
   "cell_type": "markdown",
   "id": "cc6da6ee-3a2e-4680-887b-645496ccaa9e",
   "metadata": {},
   "source": [
    "Zadanie 5"
   ]
  },
  {
   "cell_type": "code",
   "execution_count": null,
   "id": "6b2b6540-26b9-462e-962e-48d2824f16ce",
   "metadata": {},
   "outputs": [],
   "source": [
    "!pip install waitress"
   ]
  },
  {
   "cell_type": "code",
   "execution_count": null,
   "id": "3d4bb952-bee2-4c9d-9dc1-c3653db3c8f8",
   "metadata": {},
   "outputs": [],
   "source": [
    "code = \"\"\"\n",
    "# -*- coding: utf-8 -*-from flask import Flask, request, jsonify\n",
    "from flask import Flask, request, jsonify\n",
    "from sklearn.linear_model import LinearRegression\n",
    "import numpy as np\n",
    "from waitress import serve\n",
    "\n",
    "app = Flask(__name__)\n",
    "\n",
    "# Przykładowy model ML (tutaj regresja liniowa)\n",
    "model = LinearRegression()\n",
    "model.fit(np.array([[1], [2], [3], [4]]), np.array([1, 2, 3, 4]))\n",
    "\n",
    "@app.route('/')\n",
    "def home():\n",
    "    return jsonify({\"message\":\"Hello, World!\"})\n",
    "\n",
    "@app.route('/predict', methods=['POST'])\n",
    "def predict():\n",
    "    data = request.get_json()\n",
    "    if 'input' not in data:\n",
    "        return jsonify({\"error\": \"Missing 'input' value\"}), 400\n",
    "    prediction = model.predict(np.array([[data['input']]]))\n",
    "    return jsonify({\"prediction\": prediction[0]})\n",
    "\n",
    "if __name__ == '__main__':\n",
    "    serve(app, host='0.0.0.0', port=8000)\n",
    "\n",
    "\"\"\""
   ]
  },
  {
   "cell_type": "code",
   "execution_count": null,
   "id": "d9f10d91-9d75-4147-b2bf-f230a74448e8",
   "metadata": {},
   "outputs": [],
   "source": [
    "with open(\"app.py\", \"w\") as file:\n",
    "    file.write(code)"
   ]
  },
  {
   "cell_type": "code",
   "execution_count": 34,
   "id": "2b132d58-c388-4986-bf35-a4f021672db7",
   "metadata": {},
   "outputs": [
    {
     "name": "stderr",
     "output_type": "stream",
     "text": [
      "  % Total    % Received % Xferd  Average Speed   Time    Time     Time  Current\n",
      "                                 Dload  Upload   Total   Spent    Left  Speed\n",
      "\n",
      "  0     0    0     0    0     0      0      0 --:--:-- --:--:-- --:--:--     0\n",
      "  0     0    0     0    0     0      0      0 --:--:--  0:00:01 --:--:--     0\n",
      "  0     0    0     0    0     0      0      0 --:--:--  0:00:02 --:--:--     0\n",
      "  0     0    0     0    0     0      0      0 --:--:--  0:00:02 --:--:--     0\n",
      "curl: (7) Failed to connect to localhost port 8000 after 2239 ms: Could not connect to server\n"
     ]
    }
   ],
   "source": [
    "!curl -X POST http://localhost:8000/predict -H \"Content-Type: application/json\" -d \"{\\\"input\\\": 5}\""
   ]
  },
  {
   "cell_type": "code",
   "execution_count": null,
   "id": "a816e332-0561-4777-8a3d-396e43160c61",
   "metadata": {},
   "outputs": [],
   "source": [
    "!curl -X POST http://localhost:8000/predict -H \"Content-Type: application/json\" -d \"{}\""
   ]
  },
  {
   "cell_type": "markdown",
   "id": "2ce9ff6a-9bd4-41c6-9c8c-cf32b49d7938",
   "metadata": {},
   "source": [
    "Laboratorium 4:  Docker i konteneryzacja modelu ML"
   ]
  },
  {
   "cell_type": "code",
   "execution_count": 1,
   "id": "3b46a257-9eab-4f96-9ed1-982a7bd34847",
   "metadata": {},
   "outputs": [
    {
     "name": "stdout",
     "output_type": "stream",
     "text": [
      "Overwriting requirements.txt\n"
     ]
    }
   ],
   "source": [
    "%%writefile requirements.txt\n",
    "flask\n",
    "numpy\n",
    "scikit-learn\n",
    "gunicorn"
   ]
  },
  {
   "cell_type": "code",
   "execution_count": 2,
   "id": "69d01885-3c03-4135-aaa7-cab8ed727bf9",
   "metadata": {},
   "outputs": [
    {
     "name": "stdout",
     "output_type": "stream",
     "text": [
      "Writing C:\\Users\\julia\\JupyterNotebook\\Dockerfile\n"
     ]
    }
   ],
   "source": [
    "%%writefile C:\\Users\\julia\\JupyterNotebook\\Dockerfile\n",
    "#Użycie lekkiego obrazu Pythona\n",
    "FROM python:3.9-slim\n",
    "\n",
    "#Ustawienie katalogu roboczego\n",
    "WORKDIR /app\n",
    "\n",
    "#Kopiowanie plików aplikacji\n",
    "COPY . /app\n",
    "\n",
    "#Instalacja zależności\n",
    "RUN pip install --no-cache-dir -r requirements.txt\n",
    "\n",
    "#Wystawienie portu\n",
    "EXPOSE 5000\n",
    "\n",
    "#Uruchomienie serwera Gunicorn\n",
    "CMD [\"gunicorn\", \"-w\", \"4\", \"-b\", \"0.0.0.0:5000\", \"app:app\"]"
   ]
  },
  {
   "cell_type": "code",
   "execution_count": 3,
   "id": "e1b436bb-3826-4484-8b5b-1128387655ca",
   "metadata": {},
   "outputs": [
    {
     "name": "stdout",
     "output_type": "stream",
     "text": [
      "Overwriting C:\\Users\\julia\\JupyterNotebook\\app.py\n"
     ]
    }
   ],
   "source": [
    "%%writefile C:\\Users\\julia\\JupyterNotebook\\app.py\n",
    "from flask import Flask, request, jsonify\n",
    "import numpy as np\n",
    "from sklearn.linear_model import LinearRegression\n",
    "\n",
    "app = Flask(__name__)\n",
    "\n",
    "# Przykładowe dane do trenowania modelu ML\n",
    "X = np.array([[1], [2], [3], [4], [5]])\n",
    "y = np.array([2, 4, 6, 8, 10])\n",
    "model = LinearRegression().fit(X, y)\n",
    "\n",
    "@app.route(\"/\", methods=[\"GET\"])\n",
    "def home():\n",
    "    return jsonify({\"student\": \"Julia Adamowicz\"})\n",
    "\n",
    "@app.route(\"/predict\", methods=[\"POST\"])\n",
    "def predict():\n",
    "    data = request.get_json()\n",
    "    if \"input\" not in data:\n",
    "        return jsonify({\"error\": \"Brak wymaganej wartosci\"}), 400\n",
    "    try:\n",
    "        input_value = np.array([[data[\"input\"]]])\n",
    "        prediction = model.predict(input_value).tolist()\n",
    "        return jsonify({\"prediction\": prediction})\n",
    "    except Exception as e:\n",
    "        return jsonify({\"error\": str(e)}), 400\n",
    "\n",
    "if __name__ == \"__main__\":\n",
    "    app.run(host=\"0.0.0.0\", port=5000)"
   ]
  },
  {
   "cell_type": "code",
   "execution_count": 41,
   "id": "678a1a58-a6a4-4ff2-9664-349cdabefa01",
   "metadata": {},
   "outputs": [
    {
     "name": "stdout",
     "output_type": "stream",
     "text": [
      "{\"student\":\"Julia Adamowicz\"}\n"
     ]
    },
    {
     "name": "stderr",
     "output_type": "stream",
     "text": [
      "  % Total    % Received % Xferd  Average Speed   Time    Time     Time  Current\n",
      "                                 Dload  Upload   Total   Spent    Left  Speed\n",
      "\n",
      "  0     0    0     0    0     0      0      0 --:--:-- --:--:-- --:--:--     0\n",
      "100    30  100    30    0     0   2550      0 --:--:-- --:--:-- --:--:--  2727\n"
     ]
    }
   ],
   "source": [
    "!curl http://localhost:5000"
   ]
  },
  {
   "cell_type": "code",
   "execution_count": 42,
   "id": "fa0be041-6012-4be9-ac9d-17140694beec",
   "metadata": {},
   "outputs": [
    {
     "name": "stdout",
     "output_type": "stream",
     "text": [
      "{\"prediction\":[10.0]}\n"
     ]
    },
    {
     "name": "stderr",
     "output_type": "stream",
     "text": [
      "  % Total    % Received % Xferd  Average Speed   Time    Time     Time  Current\n",
      "                                 Dload  Upload   Total   Spent    Left  Speed\n",
      "\n",
      "  0     0    0     0    0     0      0      0 --:--:-- --:--:-- --:--:--     0\n",
      "100    34  100    22  100    12   1277    697 --:--:-- --:--:-- --:--:--  2000\n"
     ]
    }
   ],
   "source": [
    "!curl -X POST http://localhost:5000/predict -H \"Content-Type: application/json\" -d \"{\\\"input\\\": 5}\""
   ]
  },
  {
   "cell_type": "code",
   "execution_count": 21,
   "id": "afb5ed17-96ba-44c9-9e46-db7f5d2e5b36",
   "metadata": {},
   "outputs": [
    {
     "name": "stdout",
     "output_type": "stream",
     "text": [
      "Collecting redis\n",
      "  Downloading redis-5.2.1-py3-none-any.whl.metadata (9.1 kB)\n",
      "Downloading redis-5.2.1-py3-none-any.whl (261 kB)\n",
      "Installing collected packages: redis\n",
      "Successfully installed redis-5.2.1\n"
     ]
    },
    {
     "name": "stderr",
     "output_type": "stream",
     "text": [
      "\n",
      "[notice] A new release of pip is available: 24.3.1 -> 25.0.1\n",
      "[notice] To update, run: python.exe -m pip install --upgrade pip\n"
     ]
    }
   ],
   "source": [
    "!pip install redis"
   ]
  },
  {
   "cell_type": "code",
   "execution_count": 22,
   "id": "892ec165-8796-4ca3-8a82-f092aaaf1afe",
   "metadata": {},
   "outputs": [
    {
     "name": "stdout",
     "output_type": "stream",
     "text": [
      "Overwriting C:\\Users\\julia\\JupyterNotebook\\app.py\n"
     ]
    }
   ],
   "source": [
    "%%writefile C:\\Users\\julia\\JupyterNotebook\\app.py\n",
    "from flask import Flask, request, jsonify\n",
    "import numpy as np\n",
    "import redis\n",
    "from sklearn.linear_model import LinearRegression\n",
    "\n",
    "app = Flask(__name__)\n",
    "\n",
    "# Połączenie z Redis (host \"redis\" zamiast \"localhost\", bo Docker używa nazw kontenerów)\n",
    "redis_client = redis.Redis(host=\"redis\", port=6379, decode_responses=True)\n",
    "\n",
    "# Przykładowe dane do trenowania modelu ML\n",
    "X = np.array([[1], [2], [3], [4], [5]])\n",
    "y = np.array([2, 4, 6, 8, 10])\n",
    "model = LinearRegression().fit(X, y)\n",
    "\n",
    "@app.route(\"/\", methods=[\"GET\"])\n",
    "def home():\n",
    "    return jsonify({\"student\": \"Julia Adamowicz\"})\n",
    "\n",
    "@app.route(\"/predict\", methods=[\"POST\"])\n",
    "def predict():\n",
    "    data = request.get_json()\n",
    "    if \"input\" not in data:\n",
    "        return jsonify({\"error\": \"Brak wymaganej wartosci\"}), 400\n",
    "    try:\n",
    "        input_value = np.array([[data[\"input\"]]])\n",
    "        prediction = model.predict(input_value).tolist()\n",
    "\n",
    "        # Zapis wyniku do Redis\n",
    "        redis_client.set(\"last_prediction\", prediction[0])\n",
    "\n",
    "        return jsonify({\"prediction\": prediction})\n",
    "    except Exception as e:\n",
    "        return jsonify({\"error\": str(e)}), 400\n",
    "\n",
    "@app.route(\"/last\", methods=[\"GET\"])\n",
    "def last_prediction():\n",
    "    \"\"\" Pobiera ostatnią predykcję z Redis \"\"\"\n",
    "    last_pred = redis_client.get(\"last_prediction\")\n",
    "    if last_pred is None:\n",
    "        return jsonify({\"error\": \"Brak zapisanej predykcji\"}), 404\n",
    "    return jsonify({\"last_prediction\": float(last_pred)})\n",
    "\n",
    "if __name__ == \"__main__\":\n",
    "    app.run(host=\"0.0.0.0\", port=5000)"
   ]
  },
  {
   "cell_type": "code",
   "execution_count": 29,
   "id": "17cf9a47-50e1-4a53-9c8f-f84331a960b2",
   "metadata": {},
   "outputs": [
    {
     "name": "stdout",
     "output_type": "stream",
     "text": [
      "{\"student\":\"Julia Adamowicz\"}\n"
     ]
    },
    {
     "name": "stderr",
     "output_type": "stream",
     "text": [
      "  % Total    % Received % Xferd  Average Speed   Time    Time     Time  Current\n",
      "                                 Dload  Upload   Total   Spent    Left  Speed\n",
      "\n",
      "  0     0    0     0    0     0      0      0 --:--:-- --:--:-- --:--:--     0\n",
      "  0     0    0     0    0     0      0      0 --:--:-- --:--:-- --:--:--     0\n",
      "100    30  100    30    0     0   2427      0 --:--:-- --:--:-- --:--:--  2307\n"
     ]
    }
   ],
   "source": [
    "!curl http://localhost:5000/"
   ]
  },
  {
   "cell_type": "code",
   "execution_count": 30,
   "id": "5f884fcb-77d8-4393-b0e8-32ee9f578393",
   "metadata": {},
   "outputs": [
    {
     "name": "stdout",
     "output_type": "stream",
     "text": [
      "{\"prediction\":[10.0]}\n"
     ]
    },
    {
     "name": "stderr",
     "output_type": "stream",
     "text": [
      "  % Total    % Received % Xferd  Average Speed   Time    Time     Time  Current\n",
      "                                 Dload  Upload   Total   Spent    Left  Speed\n",
      "\n",
      "  0     0    0     0    0     0      0      0 --:--:-- --:--:-- --:--:--     0\n",
      "100    34  100    22  100    12   2463   1343 --:--:-- --:--:-- --:--:--  4250\n"
     ]
    }
   ],
   "source": [
    "!curl -X POST http://localhost:5000/predict -H \"Content-Type: application/json\" -d \"{\\\"input\\\": 5}\""
   ]
  },
  {
   "cell_type": "code",
   "execution_count": 43,
   "id": "eb556c8d-383b-4178-a1e7-ab2c604de341",
   "metadata": {},
   "outputs": [
    {
     "name": "stdout",
     "output_type": "stream",
     "text": [
      "{\"last_prediction\":10.0}\n"
     ]
    },
    {
     "name": "stderr",
     "output_type": "stream",
     "text": [
      "  % Total    % Received % Xferd  Average Speed   Time    Time     Time  Current\n",
      "                                 Dload  Upload   Total   Spent    Left  Speed\n",
      "\n",
      "  0     0    0     0    0     0      0      0 --:--:-- --:--:-- --:--:--     0\n",
      "100    25  100    25    0     0   1241      0 --:--:-- --:--:-- --:--:--  1250\n"
     ]
    }
   ],
   "source": [
    "!curl http://localhost:5000/last"
   ]
  },
  {
   "cell_type": "code",
   "execution_count": null,
   "id": "6e829c07-a81a-4a63-9cf6-04a838d667fc",
   "metadata": {},
   "outputs": [],
   "source": []
  }
 ],
 "metadata": {
  "kernelspec": {
   "display_name": "Python 3 (ipykernel)",
   "language": "python",
   "name": "python3"
  },
  "language_info": {
   "codemirror_mode": {
    "name": "ipython",
    "version": 3
   },
   "file_extension": ".py",
   "mimetype": "text/x-python",
   "name": "python",
   "nbconvert_exporter": "python",
   "pygments_lexer": "ipython3",
   "version": "3.13.1"
  }
 },
 "nbformat": 4,
 "nbformat_minor": 5
}
